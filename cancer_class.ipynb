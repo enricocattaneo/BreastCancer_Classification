{
 "cells": [
  {
   "cell_type": "markdown",
   "metadata": {},
   "source": [
    "# **Breast Cancer Classification**"
   ]
  },
  {
   "cell_type": "markdown",
   "metadata": {},
   "source": [
    "**OBJECTIVE**: Use the Breast Cancer Wisconsin (Diagnostic) Database and compare different classification models to help diagnose patients."
   ]
  },
  {
   "cell_type": "markdown",
   "metadata": {},
   "source": [
    "## Data Description\n",
    "This is a copy of UCI ML Breast Cancer Wisconsin (Diagnostic) datasets. (https://goo.gl/U2Uwz2)\n",
    "\n",
    "**Number of Instances**: 569\n",
    "\n",
    "**Number of Attributes**: 30 numeric, predictive attributes and the class\n",
    "\n",
    "**Attribute Information**:\n",
    "* radius (mean of distances from center to points on the perimeter)\n",
    "* texture (standard deviation of gray-scale values)\n",
    "* perimeter\n",
    "* area\n",
    "* smoothness (local variation in radius lengths)\n",
    "* compactness (perimeter^2 / area - 1.0)\n",
    "* concavity (severity of concave portions of the contour)\n",
    "* concave points (number of concave portions of the contour)\n",
    "* symmetry\n",
    "* fractal dimension (\"coastline approximation\" - 1)\n",
    "* class (WDBC-Malignant - 0, WDBC-Benign - 1)\n",
    "\n",
    "(The mean, standard error, and \"worst\" or largest (mean of the three worst/largest values) of these features were computed for each image, resulting in 30 features.  For instance, field 0 is Mean Radius, field 10 is Radius SE, field 20 is Worst Radius).\n",
    "\n",
    "Features are computed from a digitized image of a fine needle aspirate (FNA) of a breast mass. They describe characteristics of the cell nuclei present in the image.\n",
    "\n",
    "\n",
    "\n",
    "  \n"
   ]
  },
  {
   "cell_type": "code",
   "execution_count": 1,
   "metadata": {
    "collapsed": true
   },
   "outputs": [
    {
     "name": "stdout",
     "output_type": "stream",
     "text": [
      ".. _breast_cancer_dataset:\n",
      "\n",
      "Breast cancer wisconsin (diagnostic) dataset\n",
      "--------------------------------------------\n",
      "\n",
      "**Data Set Characteristics:**\n",
      "\n",
      "    :Number of Instances: 569\n",
      "\n",
      "    :Number of Attributes: 30 numeric, predictive attributes and the class\n",
      "\n",
      "    :Attribute Information:\n",
      "        - radius (mean of distances from center to points on the perimeter)\n",
      "        - texture (standard deviation of gray-scale values)\n",
      "        - perimeter\n",
      "        - area\n",
      "        - smoothness (local variation in radius lengths)\n",
      "        - compactness (perimeter^2 / area - 1.0)\n",
      "        - concavity (severity of concave portions of the contour)\n",
      "        - concave points (number of concave portions of the contour)\n",
      "        - symmetry\n",
      "        - fractal dimension (\"coastline approximation\" - 1)\n",
      "\n",
      "        The mean, standard error, and \"worst\" or largest (mean of the three\n",
      "        worst/largest values) of these features were computed for each image,\n",
      "        resulting in 30 features.  For instance, field 0 is Mean Radius, field\n",
      "        10 is Radius SE, field 20 is Worst Radius.\n",
      "\n",
      "        - class:\n",
      "                - WDBC-Malignant\n",
      "                - WDBC-Benign\n",
      "\n",
      "    :Summary Statistics:\n",
      "\n",
      "    ===================================== ====== ======\n",
      "                                           Min    Max\n",
      "    ===================================== ====== ======\n",
      "    radius (mean):                        6.981  28.11\n",
      "    texture (mean):                       9.71   39.28\n",
      "    perimeter (mean):                     43.79  188.5\n",
      "    area (mean):                          143.5  2501.0\n",
      "    smoothness (mean):                    0.053  0.163\n",
      "    compactness (mean):                   0.019  0.345\n",
      "    concavity (mean):                     0.0    0.427\n",
      "    concave points (mean):                0.0    0.201\n",
      "    symmetry (mean):                      0.106  0.304\n",
      "    fractal dimension (mean):             0.05   0.097\n",
      "    radius (standard error):              0.112  2.873\n",
      "    texture (standard error):             0.36   4.885\n",
      "    perimeter (standard error):           0.757  21.98\n",
      "    area (standard error):                6.802  542.2\n",
      "    smoothness (standard error):          0.002  0.031\n",
      "    compactness (standard error):         0.002  0.135\n",
      "    concavity (standard error):           0.0    0.396\n",
      "    concave points (standard error):      0.0    0.053\n",
      "    symmetry (standard error):            0.008  0.079\n",
      "    fractal dimension (standard error):   0.001  0.03\n",
      "    radius (worst):                       7.93   36.04\n",
      "    texture (worst):                      12.02  49.54\n",
      "    perimeter (worst):                    50.41  251.2\n",
      "    area (worst):                         185.2  4254.0\n",
      "    smoothness (worst):                   0.071  0.223\n",
      "    compactness (worst):                  0.027  1.058\n",
      "    concavity (worst):                    0.0    1.252\n",
      "    concave points (worst):               0.0    0.291\n",
      "    symmetry (worst):                     0.156  0.664\n",
      "    fractal dimension (worst):            0.055  0.208\n",
      "    ===================================== ====== ======\n",
      "\n",
      "    :Missing Attribute Values: None\n",
      "\n",
      "    :Class Distribution: 212 - Malignant, 357 - Benign\n",
      "\n",
      "    :Creator:  Dr. William H. Wolberg, W. Nick Street, Olvi L. Mangasarian\n",
      "\n",
      "    :Donor: Nick Street\n",
      "\n",
      "    :Date: November, 1995\n",
      "\n",
      "This is a copy of UCI ML Breast Cancer Wisconsin (Diagnostic) datasets.\n",
      "https://goo.gl/U2Uwz2\n",
      "\n",
      "Features are computed from a digitized image of a fine needle\n",
      "aspirate (FNA) of a breast mass.  They describe\n",
      "characteristics of the cell nuclei present in the image.\n",
      "\n",
      "Separating plane described above was obtained using\n",
      "Multisurface Method-Tree (MSM-T) [K. P. Bennett, \"Decision Tree\n",
      "Construction Via Linear Programming.\" Proceedings of the 4th\n",
      "Midwest Artificial Intelligence and Cognitive Science Society,\n",
      "pp. 97-101, 1992], a classification method which uses linear\n",
      "programming to construct a decision tree.  Relevant features\n",
      "were selected using an exhaustive search in the space of 1-4\n",
      "features and 1-3 separating planes.\n",
      "\n",
      "The actual linear program used to obtain the separating plane\n",
      "in the 3-dimensional space is that described in:\n",
      "[K. P. Bennett and O. L. Mangasarian: \"Robust Linear\n",
      "Programming Discrimination of Two Linearly Inseparable Sets\",\n",
      "Optimization Methods and Software 1, 1992, 23-34].\n",
      "\n",
      "This database is also available through the UW CS ftp server:\n",
      "\n",
      "ftp ftp.cs.wisc.edu\n",
      "cd math-prog/cpo-dataset/machine-learn/WDBC/\n",
      "\n",
      ".. topic:: References\n",
      "\n",
      "   - W.N. Street, W.H. Wolberg and O.L. Mangasarian. Nuclear feature extraction \n",
      "     for breast tumor diagnosis. IS&T/SPIE 1993 International Symposium on \n",
      "     Electronic Imaging: Science and Technology, volume 1905, pages 861-870,\n",
      "     San Jose, CA, 1993.\n",
      "   - O.L. Mangasarian, W.N. Street and W.H. Wolberg. Breast cancer diagnosis and \n",
      "     prognosis via linear programming. Operations Research, 43(4), pages 570-577, \n",
      "     July-August 1995.\n",
      "   - W.H. Wolberg, W.N. Street, and O.L. Mangasarian. Machine learning techniques\n",
      "     to diagnose breast cancer from fine-needle aspirates. Cancer Letters 77 (1994) \n",
      "     163-171.\n"
     ]
    }
   ],
   "source": [
    "import numpy as np\n",
    "import pandas as pd\n",
    "from sklearn.datasets import load_breast_cancer\n",
    "# Plots\n",
    "import matplotlib.pyplot as plt\n",
    "import seaborn as sns\n",
    "from tabulate import tabulate\n",
    "\n",
    "cancer = load_breast_cancer()\n",
    "print(cancer.DESCR) # Print the data set description"
   ]
  },
  {
   "cell_type": "markdown",
   "metadata": {},
   "source": [
    "## Data Preparation"
   ]
  },
  {
   "cell_type": "code",
   "execution_count": 2,
   "metadata": {
    "collapsed": false
   },
   "outputs": [
    {
     "data": {
      "text/html": [
       "<div>\n",
       "<style scoped>\n",
       "    .dataframe tbody tr th:only-of-type {\n",
       "        vertical-align: middle;\n",
       "    }\n",
       "\n",
       "    .dataframe tbody tr th {\n",
       "        vertical-align: top;\n",
       "    }\n",
       "\n",
       "    .dataframe thead th {\n",
       "        text-align: right;\n",
       "    }\n",
       "</style>\n",
       "<table border=\"1\" class=\"dataframe\">\n",
       "  <thead>\n",
       "    <tr style=\"text-align: right;\">\n",
       "      <th></th>\n",
       "      <th>mean radius</th>\n",
       "      <th>mean texture</th>\n",
       "      <th>mean perimeter</th>\n",
       "      <th>mean area</th>\n",
       "      <th>mean smoothness</th>\n",
       "      <th>mean compactness</th>\n",
       "      <th>mean concavity</th>\n",
       "      <th>mean concave points</th>\n",
       "      <th>mean symmetry</th>\n",
       "      <th>mean fractal dimension</th>\n",
       "      <th>...</th>\n",
       "      <th>worst texture</th>\n",
       "      <th>worst perimeter</th>\n",
       "      <th>worst area</th>\n",
       "      <th>worst smoothness</th>\n",
       "      <th>worst compactness</th>\n",
       "      <th>worst concavity</th>\n",
       "      <th>worst concave points</th>\n",
       "      <th>worst symmetry</th>\n",
       "      <th>worst fractal dimension</th>\n",
       "      <th>target</th>\n",
       "    </tr>\n",
       "  </thead>\n",
       "  <tbody>\n",
       "    <tr>\n",
       "      <th>0</th>\n",
       "      <td>17.99</td>\n",
       "      <td>10.38</td>\n",
       "      <td>122.80</td>\n",
       "      <td>1001.0</td>\n",
       "      <td>0.11840</td>\n",
       "      <td>0.27760</td>\n",
       "      <td>0.30010</td>\n",
       "      <td>0.14710</td>\n",
       "      <td>0.2419</td>\n",
       "      <td>0.07871</td>\n",
       "      <td>...</td>\n",
       "      <td>17.33</td>\n",
       "      <td>184.60</td>\n",
       "      <td>2019.0</td>\n",
       "      <td>0.16220</td>\n",
       "      <td>0.66560</td>\n",
       "      <td>0.7119</td>\n",
       "      <td>0.2654</td>\n",
       "      <td>0.4601</td>\n",
       "      <td>0.11890</td>\n",
       "      <td>0</td>\n",
       "    </tr>\n",
       "    <tr>\n",
       "      <th>1</th>\n",
       "      <td>20.57</td>\n",
       "      <td>17.77</td>\n",
       "      <td>132.90</td>\n",
       "      <td>1326.0</td>\n",
       "      <td>0.08474</td>\n",
       "      <td>0.07864</td>\n",
       "      <td>0.08690</td>\n",
       "      <td>0.07017</td>\n",
       "      <td>0.1812</td>\n",
       "      <td>0.05667</td>\n",
       "      <td>...</td>\n",
       "      <td>23.41</td>\n",
       "      <td>158.80</td>\n",
       "      <td>1956.0</td>\n",
       "      <td>0.12380</td>\n",
       "      <td>0.18660</td>\n",
       "      <td>0.2416</td>\n",
       "      <td>0.1860</td>\n",
       "      <td>0.2750</td>\n",
       "      <td>0.08902</td>\n",
       "      <td>0</td>\n",
       "    </tr>\n",
       "    <tr>\n",
       "      <th>2</th>\n",
       "      <td>19.69</td>\n",
       "      <td>21.25</td>\n",
       "      <td>130.00</td>\n",
       "      <td>1203.0</td>\n",
       "      <td>0.10960</td>\n",
       "      <td>0.15990</td>\n",
       "      <td>0.19740</td>\n",
       "      <td>0.12790</td>\n",
       "      <td>0.2069</td>\n",
       "      <td>0.05999</td>\n",
       "      <td>...</td>\n",
       "      <td>25.53</td>\n",
       "      <td>152.50</td>\n",
       "      <td>1709.0</td>\n",
       "      <td>0.14440</td>\n",
       "      <td>0.42450</td>\n",
       "      <td>0.4504</td>\n",
       "      <td>0.2430</td>\n",
       "      <td>0.3613</td>\n",
       "      <td>0.08758</td>\n",
       "      <td>0</td>\n",
       "    </tr>\n",
       "    <tr>\n",
       "      <th>3</th>\n",
       "      <td>11.42</td>\n",
       "      <td>20.38</td>\n",
       "      <td>77.58</td>\n",
       "      <td>386.1</td>\n",
       "      <td>0.14250</td>\n",
       "      <td>0.28390</td>\n",
       "      <td>0.24140</td>\n",
       "      <td>0.10520</td>\n",
       "      <td>0.2597</td>\n",
       "      <td>0.09744</td>\n",
       "      <td>...</td>\n",
       "      <td>26.50</td>\n",
       "      <td>98.87</td>\n",
       "      <td>567.7</td>\n",
       "      <td>0.20980</td>\n",
       "      <td>0.86630</td>\n",
       "      <td>0.6869</td>\n",
       "      <td>0.2575</td>\n",
       "      <td>0.6638</td>\n",
       "      <td>0.17300</td>\n",
       "      <td>0</td>\n",
       "    </tr>\n",
       "    <tr>\n",
       "      <th>4</th>\n",
       "      <td>20.29</td>\n",
       "      <td>14.34</td>\n",
       "      <td>135.10</td>\n",
       "      <td>1297.0</td>\n",
       "      <td>0.10030</td>\n",
       "      <td>0.13280</td>\n",
       "      <td>0.19800</td>\n",
       "      <td>0.10430</td>\n",
       "      <td>0.1809</td>\n",
       "      <td>0.05883</td>\n",
       "      <td>...</td>\n",
       "      <td>16.67</td>\n",
       "      <td>152.20</td>\n",
       "      <td>1575.0</td>\n",
       "      <td>0.13740</td>\n",
       "      <td>0.20500</td>\n",
       "      <td>0.4000</td>\n",
       "      <td>0.1625</td>\n",
       "      <td>0.2364</td>\n",
       "      <td>0.07678</td>\n",
       "      <td>0</td>\n",
       "    </tr>\n",
       "    <tr>\n",
       "      <th>...</th>\n",
       "      <td>...</td>\n",
       "      <td>...</td>\n",
       "      <td>...</td>\n",
       "      <td>...</td>\n",
       "      <td>...</td>\n",
       "      <td>...</td>\n",
       "      <td>...</td>\n",
       "      <td>...</td>\n",
       "      <td>...</td>\n",
       "      <td>...</td>\n",
       "      <td>...</td>\n",
       "      <td>...</td>\n",
       "      <td>...</td>\n",
       "      <td>...</td>\n",
       "      <td>...</td>\n",
       "      <td>...</td>\n",
       "      <td>...</td>\n",
       "      <td>...</td>\n",
       "      <td>...</td>\n",
       "      <td>...</td>\n",
       "      <td>...</td>\n",
       "    </tr>\n",
       "    <tr>\n",
       "      <th>564</th>\n",
       "      <td>21.56</td>\n",
       "      <td>22.39</td>\n",
       "      <td>142.00</td>\n",
       "      <td>1479.0</td>\n",
       "      <td>0.11100</td>\n",
       "      <td>0.11590</td>\n",
       "      <td>0.24390</td>\n",
       "      <td>0.13890</td>\n",
       "      <td>0.1726</td>\n",
       "      <td>0.05623</td>\n",
       "      <td>...</td>\n",
       "      <td>26.40</td>\n",
       "      <td>166.10</td>\n",
       "      <td>2027.0</td>\n",
       "      <td>0.14100</td>\n",
       "      <td>0.21130</td>\n",
       "      <td>0.4107</td>\n",
       "      <td>0.2216</td>\n",
       "      <td>0.2060</td>\n",
       "      <td>0.07115</td>\n",
       "      <td>0</td>\n",
       "    </tr>\n",
       "    <tr>\n",
       "      <th>565</th>\n",
       "      <td>20.13</td>\n",
       "      <td>28.25</td>\n",
       "      <td>131.20</td>\n",
       "      <td>1261.0</td>\n",
       "      <td>0.09780</td>\n",
       "      <td>0.10340</td>\n",
       "      <td>0.14400</td>\n",
       "      <td>0.09791</td>\n",
       "      <td>0.1752</td>\n",
       "      <td>0.05533</td>\n",
       "      <td>...</td>\n",
       "      <td>38.25</td>\n",
       "      <td>155.00</td>\n",
       "      <td>1731.0</td>\n",
       "      <td>0.11660</td>\n",
       "      <td>0.19220</td>\n",
       "      <td>0.3215</td>\n",
       "      <td>0.1628</td>\n",
       "      <td>0.2572</td>\n",
       "      <td>0.06637</td>\n",
       "      <td>0</td>\n",
       "    </tr>\n",
       "    <tr>\n",
       "      <th>566</th>\n",
       "      <td>16.60</td>\n",
       "      <td>28.08</td>\n",
       "      <td>108.30</td>\n",
       "      <td>858.1</td>\n",
       "      <td>0.08455</td>\n",
       "      <td>0.10230</td>\n",
       "      <td>0.09251</td>\n",
       "      <td>0.05302</td>\n",
       "      <td>0.1590</td>\n",
       "      <td>0.05648</td>\n",
       "      <td>...</td>\n",
       "      <td>34.12</td>\n",
       "      <td>126.70</td>\n",
       "      <td>1124.0</td>\n",
       "      <td>0.11390</td>\n",
       "      <td>0.30940</td>\n",
       "      <td>0.3403</td>\n",
       "      <td>0.1418</td>\n",
       "      <td>0.2218</td>\n",
       "      <td>0.07820</td>\n",
       "      <td>0</td>\n",
       "    </tr>\n",
       "    <tr>\n",
       "      <th>567</th>\n",
       "      <td>20.60</td>\n",
       "      <td>29.33</td>\n",
       "      <td>140.10</td>\n",
       "      <td>1265.0</td>\n",
       "      <td>0.11780</td>\n",
       "      <td>0.27700</td>\n",
       "      <td>0.35140</td>\n",
       "      <td>0.15200</td>\n",
       "      <td>0.2397</td>\n",
       "      <td>0.07016</td>\n",
       "      <td>...</td>\n",
       "      <td>39.42</td>\n",
       "      <td>184.60</td>\n",
       "      <td>1821.0</td>\n",
       "      <td>0.16500</td>\n",
       "      <td>0.86810</td>\n",
       "      <td>0.9387</td>\n",
       "      <td>0.2650</td>\n",
       "      <td>0.4087</td>\n",
       "      <td>0.12400</td>\n",
       "      <td>0</td>\n",
       "    </tr>\n",
       "    <tr>\n",
       "      <th>568</th>\n",
       "      <td>7.76</td>\n",
       "      <td>24.54</td>\n",
       "      <td>47.92</td>\n",
       "      <td>181.0</td>\n",
       "      <td>0.05263</td>\n",
       "      <td>0.04362</td>\n",
       "      <td>0.00000</td>\n",
       "      <td>0.00000</td>\n",
       "      <td>0.1587</td>\n",
       "      <td>0.05884</td>\n",
       "      <td>...</td>\n",
       "      <td>30.37</td>\n",
       "      <td>59.16</td>\n",
       "      <td>268.6</td>\n",
       "      <td>0.08996</td>\n",
       "      <td>0.06444</td>\n",
       "      <td>0.0000</td>\n",
       "      <td>0.0000</td>\n",
       "      <td>0.2871</td>\n",
       "      <td>0.07039</td>\n",
       "      <td>1</td>\n",
       "    </tr>\n",
       "  </tbody>\n",
       "</table>\n",
       "<p>569 rows × 31 columns</p>\n",
       "</div>"
      ],
      "text/plain": [
       "     mean radius  mean texture  mean perimeter  mean area  mean smoothness  \\\n",
       "0          17.99         10.38          122.80     1001.0          0.11840   \n",
       "1          20.57         17.77          132.90     1326.0          0.08474   \n",
       "2          19.69         21.25          130.00     1203.0          0.10960   \n",
       "3          11.42         20.38           77.58      386.1          0.14250   \n",
       "4          20.29         14.34          135.10     1297.0          0.10030   \n",
       "..           ...           ...             ...        ...              ...   \n",
       "564        21.56         22.39          142.00     1479.0          0.11100   \n",
       "565        20.13         28.25          131.20     1261.0          0.09780   \n",
       "566        16.60         28.08          108.30      858.1          0.08455   \n",
       "567        20.60         29.33          140.10     1265.0          0.11780   \n",
       "568         7.76         24.54           47.92      181.0          0.05263   \n",
       "\n",
       "     mean compactness  mean concavity  mean concave points  mean symmetry  \\\n",
       "0             0.27760         0.30010              0.14710         0.2419   \n",
       "1             0.07864         0.08690              0.07017         0.1812   \n",
       "2             0.15990         0.19740              0.12790         0.2069   \n",
       "3             0.28390         0.24140              0.10520         0.2597   \n",
       "4             0.13280         0.19800              0.10430         0.1809   \n",
       "..                ...             ...                  ...            ...   \n",
       "564           0.11590         0.24390              0.13890         0.1726   \n",
       "565           0.10340         0.14400              0.09791         0.1752   \n",
       "566           0.10230         0.09251              0.05302         0.1590   \n",
       "567           0.27700         0.35140              0.15200         0.2397   \n",
       "568           0.04362         0.00000              0.00000         0.1587   \n",
       "\n",
       "     mean fractal dimension  ...  worst texture  worst perimeter  worst area  \\\n",
       "0                   0.07871  ...          17.33           184.60      2019.0   \n",
       "1                   0.05667  ...          23.41           158.80      1956.0   \n",
       "2                   0.05999  ...          25.53           152.50      1709.0   \n",
       "3                   0.09744  ...          26.50            98.87       567.7   \n",
       "4                   0.05883  ...          16.67           152.20      1575.0   \n",
       "..                      ...  ...            ...              ...         ...   \n",
       "564                 0.05623  ...          26.40           166.10      2027.0   \n",
       "565                 0.05533  ...          38.25           155.00      1731.0   \n",
       "566                 0.05648  ...          34.12           126.70      1124.0   \n",
       "567                 0.07016  ...          39.42           184.60      1821.0   \n",
       "568                 0.05884  ...          30.37            59.16       268.6   \n",
       "\n",
       "     worst smoothness  worst compactness  worst concavity  \\\n",
       "0             0.16220            0.66560           0.7119   \n",
       "1             0.12380            0.18660           0.2416   \n",
       "2             0.14440            0.42450           0.4504   \n",
       "3             0.20980            0.86630           0.6869   \n",
       "4             0.13740            0.20500           0.4000   \n",
       "..                ...                ...              ...   \n",
       "564           0.14100            0.21130           0.4107   \n",
       "565           0.11660            0.19220           0.3215   \n",
       "566           0.11390            0.30940           0.3403   \n",
       "567           0.16500            0.86810           0.9387   \n",
       "568           0.08996            0.06444           0.0000   \n",
       "\n",
       "     worst concave points  worst symmetry  worst fractal dimension  target  \n",
       "0                  0.2654          0.4601                  0.11890       0  \n",
       "1                  0.1860          0.2750                  0.08902       0  \n",
       "2                  0.2430          0.3613                  0.08758       0  \n",
       "3                  0.2575          0.6638                  0.17300       0  \n",
       "4                  0.1625          0.2364                  0.07678       0  \n",
       "..                    ...             ...                      ...     ...  \n",
       "564                0.2216          0.2060                  0.07115       0  \n",
       "565                0.1628          0.2572                  0.06637       0  \n",
       "566                0.1418          0.2218                  0.07820       0  \n",
       "567                0.2650          0.4087                  0.12400       0  \n",
       "568                0.0000          0.2871                  0.07039       1  \n",
       "\n",
       "[569 rows x 31 columns]"
      ]
     },
     "execution_count": 2,
     "metadata": {},
     "output_type": "execute_result"
    }
   ],
   "source": [
    "# Number of features in the dataset\n",
    "len(cancer['feature_names'])\n",
    "\n",
    "# Convert the sklearn.dataset to a DataFrame\n",
    "df_cancer = pd.DataFrame(cancer.data, columns=cancer.feature_names)\n",
    "df_cancer['target'] = pd.Series(cancer.target)\n",
    "df_cancer"
   ]
  },
  {
   "cell_type": "code",
   "execution_count": 3,
   "metadata": {},
   "outputs": [
    {
     "name": "stdout",
     "output_type": "stream",
     "text": [
      "0    357\n",
      "1    212\n",
      "Name: target, dtype: int64\n",
      "benign       357\n",
      "malignant    212\n",
      "Name: target, dtype: int64\n"
     ]
    },
    {
     "data": {
      "image/png": "[encoded data removed]",
      "text/plain": [
       "<Figure size 432x288 with 1 Axes>"
      ]
     },
     "metadata": {},
     "output_type": "display_data"
    }
   ],
   "source": [
    "# Compute the target's class distribution \n",
    "# Change 1 as malignant and 0 as benign (opposite)\n",
    "df_cancer['target'] = np.where(df_cancer['target'] == 0, 1, 0)\n",
    "print(df_cancer['target'].value_counts().astype(int))\n",
    "target = df_cancer['target'].value_counts().astype(int)\n",
    "target.index = ['benign', 'malignant']\n",
    "print(target)\n",
    "\n",
    "# Pie chart\n",
    "fig1, ax1 = plt.subplots()\n",
    "ax1.pie(target, labels=target.index, autopct='%1.1f%%', wedgeprops={'linewidth': 3.0, 'edgecolor': 'white'},\n",
    "        shadow=True, startangle=90)\n",
    "ax1.axis('equal')  # Equal aspect ratio ensures that pie is drawn as a circle.\n",
    "ax1.set_title('Malignant and Benign Breast Cancer', fontsize=18, color = \"green\")\n",
    "plt.tight_layout()"
   ]
  },
  {
   "cell_type": "markdown",
   "metadata": {},
   "source": [
    "#### Split data into training and test set"
   ]
  },
  {
   "cell_type": "code",
   "execution_count": 4,
   "metadata": {},
   "outputs": [
    {
     "name": "stdout",
     "output_type": "stream",
     "text": [
      "X shape:  (569, 30)\n",
      "y shape:  (569,)\n",
      "X train shape:  (455, 30) \n",
      "y train shape:  (455,) \n",
      "X test shape:  (114, 30) \n",
      "y test shape:  (114,)\n"
     ]
    }
   ],
   "source": [
    "from sklearn.model_selection import train_test_split\n",
    "\n",
    "# Split the data into the data (X) and the labels (y)\n",
    "X = df_cancer.drop('target', axis=1)\n",
    "y = df_cancer['target']\n",
    "print('X shape: ', X.shape)\n",
    "print('y shape: ', y.shape)\n",
    "# Split X and y into training and test\n",
    "X_train, X_test, y_train, y_test = train_test_split(X, y, test_size = 0.2, random_state=0)\n",
    "print('X train shape: ', X_train.shape, '\\ny train shape: ', y_train.shape,'\\nX test shape: ', X_test.shape, '\\ny test shape: ', y_test.shape)"
   ]
  },
  {
   "cell_type": "code",
   "execution_count": 5,
   "metadata": {},
   "outputs": [
    {
     "data": {
      "text/plain": [
       "0    67\n",
       "1    47\n",
       "Name: target, dtype: int64"
      ]
     },
     "execution_count": 5,
     "metadata": {},
     "output_type": "execute_result"
    }
   ],
   "source": [
    "y_test.value_counts().astype(int)"
   ]
  },
  {
   "cell_type": "markdown",
   "metadata": {},
   "source": [
    "## **Classification**"
   ]
  },
  {
   "cell_type": "markdown",
   "metadata": {},
   "source": [
    "The use of accuracy, the most common metric for evaluating classification models, may bring some issues. When addressing this classification problem, an important consideration has to be made. The accuracy of an ML model describes how many data points were detected correctly and is formally defined as: \n",
    "\n",
    "$Accuracy = \\frac{True Positive + True Negative}{True Positive + True Negative + False Positive + False Negative}$\n",
    "\n",
    "This metric weights both false positive and false negative observations the same. Since, in this particular study, we are considering the classification of breast cancer, we have to be cautious when considering such a metric. The misclassification of a person with cancer carries more dangerous implications than that of a healthy patient. What if a patient has cancer, but no treatment is given because our model predicted so? (That is a situation we would like to avoid!)\n",
    "\n",
    "Once we make this important consideration, the use of the recall (or sensitivity), which is another metric for the evaluation of classification models, makes more sense. The recall describes how many true positives were recalled (found) by the model. It is calculated by dividing the true positives by the total actual positive. \n",
    "\n",
    "$Recall = \\frac{True Positive}{True Positive + False Negative}$\n",
    "\n",
    "Recall should be the model metric we use to select our best model when there is a high cost associated with False Negative (as in this case)."
   ]
  },
  {
   "cell_type": "markdown",
   "metadata": {},
   "source": [
    "#### Imports"
   ]
  },
  {
   "cell_type": "code",
   "execution_count": 6,
   "metadata": {},
   "outputs": [],
   "source": [
    "# ML models\n",
    "from sklearn.linear_model import LogisticRegression\n",
    "from sklearn.tree import DecisionTreeClassifier\n",
    "from sklearn.ensemble import AdaBoostClassifier\n",
    "from sklearn.neighbors import KNeighborsClassifier\n",
    "from sklearn.ensemble import RandomForestClassifier\n",
    "from sklearn.naive_bayes import GaussianNB\n",
    "from sklearn.ensemble import GradientBoostingClassifier\n",
    "from sklearn.neural_network import MLPClassifier\n",
    "# Grid search + metric\n",
    "from sklearn.model_selection import GridSearchCV\n",
    "from sklearn import metrics"
   ]
  },
  {
   "cell_type": "markdown",
   "metadata": {},
   "source": [
    "#### Functions"
   ]
  },
  {
   "cell_type": "markdown",
   "metadata": {},
   "source": [
    "Define a dictionary with some classifies and their parameters grids for tuning hyperparameters (using GridSearchCV)."
   ]
  },
  {
   "cell_type": "code",
   "execution_count": 7,
   "metadata": {},
   "outputs": [],
   "source": [
    "estimators_and_par = {\n",
    "    'KNN': [KNeighborsClassifier(), {'n_neighbors': list(range(1, 100, 3))}],\n",
    "    'NAIVE BAYES': [GaussianNB(), {'var_smoothing': np.logspace(0,-9, num=100)}],\n",
    "    'LOGISTIC REGRESSION': [LogisticRegression(), {'solver': ['newton-cg'], 'C':[0.001, 0.01, 0.1, 1, 5, 10, 15, 100], 'max_iter':[5000]}],\n",
    "    'DECISION TREE': [DecisionTreeClassifier(), {'criterion': ['gini', 'entropy'], 'max_depth': list(range(1,12,3)), 'random_state':[14]}],\n",
    "    'RANDOM FORESTS': [RandomForestClassifier(), {'bootstrap': [True], 'max_depth': [5, 10, 20], 'min_samples_leaf': [4, 6, 10], 'min_samples_split': [7,10,15], 'n_estimators': [100, 500, 750], 'random_state':[14]}],\n",
    "    'ADABOOST': [AdaBoostClassifier(), {'n_estimators':[10, 100, 250, 500, 1000, 2000],'learning_rate':[0.001,0.01, 0.1]}],\n",
    "    'GRADIENT BOOSTING' : [GradientBoostingClassifier(), {\"n_estimators\":[250, 500, 1000, 2000], \"max_depth\":list(range(1,12,3)), \"learning_rate\":[0.01,0.1,1,10,100]}],\n",
    "    'NEURAL NETWORK ' : [MLPClassifier(max_iter = 10000), {\"hidden_layer_sizes\": [25, 75, 100, 150], \"activation\": [\"logistic\", \"tanh\", \"relu\"], \"solver\": [\"sgd\", \"adam\"], 'alpha': [0.0001, 0.001, 0.05,], 'learning_rate': ['constant','adaptive']}]\n",
    "}"
   ]
  },
  {
   "cell_type": "code",
   "execution_count": 8,
   "metadata": {},
   "outputs": [],
   "source": [
    "def table_bestmodel(estimators, recall = False):\n",
    "    \"\"\"Funtion that outputs a table comparing the best performing models after conducting hyperparameter tuning. \n",
    "    Parameters:\n",
    "    - estimators: dictionary of the classification models and parameters grid to use in GridSearchCV() (see cell above for an example of the structure\n",
    "    - recall: if False (Default) computes a GridSearchCV based on accuracy, while if True does so based on recall\"\"\"\n",
    "    global X_train, y_train, X_test, y_test\n",
    "    info_dict = {}\n",
    "    if recall == False: \n",
    "        for key, value in estimators.items():\n",
    "            gs_acc = GridSearchCV(estimator=value[0], param_grid=value[1], cv=5, scoring='accuracy', refit=True, n_jobs=-1)\n",
    "            gs_acc.fit(X_train,y_train)\n",
    "            model_BEST = gs_acc.best_estimator_\n",
    "            model_BEST.fit(X_train, y_train)\n",
    "            y_pred_acc= model_BEST.predict(X_test)\n",
    "            info_dict[key] = {'Train acc.': gs_acc.best_score_, 'Test acc.': metrics.accuracy_score(y_test, y_pred_acc), 'Test Rec.' : metrics.recall_score(y_test, y_pred_acc), 'Best Model': gs_acc.best_estimator_, }\n",
    "        df_acc = pd.DataFrame(info_dict)\n",
    "        df_acc = df_acc.T\n",
    "        df_acc.columns = [\"Train Acc.\", \"Test Acc.\", 'Test Rec.', \"Best Model\"]\n",
    "        print(tabulate(df_acc, headers=\"keys\", tablefmt='fancy_grid'))\n",
    "    else:\n",
    "        for key, value in estimators.items():\n",
    "            gs_rec = GridSearchCV(estimator=value[0], param_grid=value[1], cv=5, scoring='recall', refit=True, n_jobs=-1)\n",
    "            gs_rec.fit(X_train,y_train)\n",
    "            model_BEST = gs_rec.best_estimator_\n",
    "            model_BEST.fit(X_train, y_train)\n",
    "            y_pred_rec =model_BEST.predict(X_test)\n",
    "            info_dict[key] = {'Train rec.': gs_rec.best_score_, 'Test rec.' : metrics.recall_score(y_test, y_pred_rec), 'Test acc.': metrics.accuracy_score(y_test, y_pred_rec), 'Best Model': gs_rec.best_estimator_, }\n",
    "        df_rec = pd.DataFrame(info_dict)\n",
    "        df_rec = df_rec.T\n",
    "        df_rec.columns = [\"Train Rec.\", \"Test Rec.\", 'Test Acc.', \"Best Model\"]\n",
    "        print(tabulate(df_rec, headers=\"keys\", tablefmt='fancy_grid'))"
   ]
  },
  {
   "cell_type": "code",
   "execution_count": 9,
   "metadata": {},
   "outputs": [],
   "source": [
    "def model_plots(model):\n",
    "    \"\"\"Funtion that, given a model, plots its confusion matrix (also some other metrics). \n",
    "    Parameters:\n",
    "    - model: classification model we want the confusion matrix of\"\"\"\n",
    "    global X_train, y_train, X_test, y_test\n",
    "    model.fit(X_train,y_train)\n",
    "    y_pred = model.predict(X_test)\n",
    "    \n",
    "    # Model's Accuracy \n",
    "    print('Test Accuracy: ', metrics.accuracy_score(y_test, y_pred))\n",
    "    print('Test Precision: ', metrics.precision_score(y_test, y_pred))\n",
    "    print('Test Recall: ', metrics.recall_score(y_test, y_pred))\n",
    "    \n",
    "    # Plot the Confusion Matrix\n",
    "    cm = metrics.confusion_matrix(y_test, y_pred)\n",
    "    fig = plt.subplots(figsize=(18, 7))\n",
    "    plot = sns.heatmap(cm, annot=True, fmt='g',cmap='plasma', linewidth=1)  \n",
    "    plot.set_xlabel('Predicted labels')\n",
    "    plot.set_ylabel('True labels')\n",
    "    plot.set_title('Confusion Matrix: ')\n",
    "    plot.xaxis.set_ticklabels(['Benign', 'Malignant'])\n",
    "    plot.yaxis.set_ticklabels(['Benign', 'Malignant'])\n",
    "    plt.show()"
   ]
  },
  {
   "cell_type": "code",
   "execution_count": 10,
   "metadata": {},
   "outputs": [],
   "source": [
    "def model_ROC_plots(model1, model2):\n",
    "    \"\"\"Funtion that, given two models, plots their ROC curve (for comparison) and the Random prediction ROC curve. \n",
    "    Parameters:\n",
    "    - model1, model2: classification models we want the ROC curve of\"\"\"\n",
    "    global X_train, y_train, X_test, y_test\n",
    "    # Model 1\n",
    "    model1.fit(X_train,y_train)\n",
    "    y_pred_proba1 = model1.predict_proba(X_test)[::,1]\n",
    "    fpr1, tpr1, _ = metrics.roc_curve(y_test,  y_pred_proba1)\n",
    "    auc1 = metrics.roc_auc_score(y_test, y_pred_proba1)\n",
    "    # Model 2\n",
    "    model2.fit(X_train,y_train)\n",
    "    y_pred_proba2 = model2.predict_proba(X_test)[::,1]\n",
    "    fpr2, tpr2, _ = metrics.roc_curve(y_test,  y_pred_proba2)\n",
    "    auc2 = metrics.roc_auc_score(y_test, y_pred_proba2)\n",
    "    # Random Prediction\n",
    "    r_probs = [0 for _ in range(len(y_test))]\n",
    "    r_auc = metrics.roc_auc_score(y_test, r_probs)\n",
    "    r_fpr, r_tpr, _ = metrics.roc_curve(y_test, r_probs)\n",
    "\n",
    "    plt.figure(figsize=(10,10))\n",
    "    plt.plot(r_fpr, r_tpr, linestyle='--', label='Random prediction (AUROC = %0.3f)' % r_auc)\n",
    "    plt.plot(fpr1, tpr1, marker='.', label='Gradient Boosting (AUROC = %0.3f)' % auc1)\n",
    "    plt.plot(fpr2, tpr2, marker='.', label='Logistic Regression (AUROC = %0.3f)' % auc2)\n",
    "    plt.title('ROC Plot')\n",
    "    plt.xlabel('False Positive Rate')\n",
    "    plt.ylabel('True Positive Rate')\n",
    "    plt.legend(fancybox=True, framealpha=1, shadow=True, borderpad=1, prop={'size': 17}) \n",
    "    plt.show()"
   ]
  },
  {
   "cell_type": "code",
   "execution_count": 23,
   "metadata": {},
   "outputs": [],
   "source": [
    "def perf_summary_plot(model, title):\n",
    "    \"\"\"Funtion that, given a model, plots a performance summary plot (similar meaning to the confusion matrix plot). \n",
    "    Parameters:\n",
    "    - model: classification models we want the plot of\n",
    "    - title (string): tile of the plot\"\"\"\n",
    "    # Create scores\n",
    "    ben_train_X = X_train[y_train==0]\n",
    "    ben_train_y = y_train[y_train==0]\n",
    "    mal_train_X = X_train[y_train==1]\n",
    "    mal_train_y = y_train[y_train==1]\n",
    "    ben_test_X = X_test[y_test==0]\n",
    "    ben_test_y = y_test[y_test==0]\n",
    "    mal_test_X = X_test[y_test==1]\n",
    "    mal_test_y = y_test[y_test==1]\n",
    "    scores = [model.score(mal_train_X, mal_train_y), model.score(ben_train_X, ben_train_y), model.score(mal_test_X, mal_test_y), model.score(ben_test_X, ben_test_y)]\n",
    "    # Plot\n",
    "    plt.figure()\n",
    "    bars = plt.bar(np.arange(4), scores, color=['#4c72b0','#4c72b0','#55a868','#55a868']) # scores as a bar chart\n",
    "    for bar in bars: # directly label the score onto the bars\n",
    "        height = bar.get_height()\n",
    "        plt.gca().text(bar.get_x() + bar.get_width()/2, height*.90, '{0:.{1}f}'.format(height, 2), ha='center', color='w', fontsize=11)\n",
    "    plt.tick_params(top='off', bottom='off', left='off', right='off', labelleft='off', labelbottom='on') # remove ticks \n",
    "    for spine in plt.gca().spines.values(): # remove the frame of the chart\n",
    "        spine.set_visible(False)\n",
    "    plt.xticks([0,1,2,3], ['Malignant\\nTraining', 'Benign\\nTraining', 'Malignant\\nTest', 'Benign\\nTest'], alpha=0.8);\n",
    "    plt.title(title, alpha=0.8)"
   ]
  },
  {
   "cell_type": "markdown",
   "metadata": {},
   "source": [
    "### Models"
   ]
  },
  {
   "cell_type": "markdown",
   "metadata": {},
   "source": [
    "##### Best performances table (accuracy-based)"
   ]
  },
  {
   "cell_type": "code",
   "execution_count": 12,
   "metadata": {},
   "outputs": [
    {
     "name": "stdout",
     "output_type": "stream",
     "text": [
      "-- Trained for best ACCURACY --\n",
      "╒═════════════════════╤══════════════╤═════════════╤═════════════╤══════════════════════════════════════════════════════════════════════════════╕\n",
      "│                     │   Train Acc. │   Test Acc. │   Test Rec. │ Best Model                                                                   │\n",
      "╞═════════════════════╪══════════════╪═════════════╪═════════════╪══════════════════════════════════════════════════════════════════════════════╡\n",
      "│ KNN                 │     0.936264 │    0.964912 │    0.93617  │ KNeighborsClassifier(n_neighbors=13)                                         │\n",
      "├─────────────────────┼──────────────┼─────────────┼─────────────┼──────────────────────────────────────────────────────────────────────────────┤\n",
      "│ NAIVE BAYES         │     0.945055 │    0.929825 │    0.914894 │ GaussianNB(var_smoothing=1.519911082952933e-09)                              │\n",
      "├─────────────────────┼──────────────┼─────────────┼─────────────┼──────────────────────────────────────────────────────────────────────────────┤\n",
      "│ LOGISTIC REGRESSION │     0.96044  │    0.982456 │    1        │ LogisticRegression(C=100, max_iter=5000, solver='newton-cg')                 │\n",
      "├─────────────────────┼──────────────┼─────────────┼─────────────┼──────────────────────────────────────────────────────────────────────────────┤\n",
      "│ DECISION TREE       │     0.92967  │    0.921053 │    0.914894 │ DecisionTreeClassifier(criterion='entropy', max_depth=7, random_state=14)    │\n",
      "├─────────────────────┼──────────────┼─────────────┼─────────────┼──────────────────────────────────────────────────────────────────────────────┤\n",
      "│ RANDOM FORESTS      │     0.953846 │    0.964912 │    0.957447 │ RandomForestClassifier(max_depth=5, min_samples_leaf=4, min_samples_split=7, │\n",
      "│                     │              │             │             │                        random_state=14)                                      │\n",
      "├─────────────────────┼──────────────┼─────────────┼─────────────┼──────────────────────────────────────────────────────────────────────────────┤\n",
      "│ ADABOOST            │     0.971429 │    0.973684 │    0.957447 │ AdaBoostClassifier(learning_rate=0.01, n_estimators=2000)                    │\n",
      "├─────────────────────┼──────────────┼─────────────┼─────────────┼──────────────────────────────────────────────────────────────────────────────┤\n",
      "│ GRADIENT BOOSTING   │     0.971429 │    0.982456 │    0.957447 │ GradientBoostingClassifier(learning_rate=1, max_depth=1, n_estimators=500)   │\n",
      "├─────────────────────┼──────────────┼─────────────┼─────────────┼──────────────────────────────────────────────────────────────────────────────┤\n",
      "│ NEURAL NETWORK      │     0.951648 │    0.938596 │    0.93617  │ MLPClassifier(activation='logistic', alpha=0.001, hidden_layer_sizes=25,     │\n",
      "│                     │              │             │             │               learning_rate='adaptive', max_iter=10000)                      │\n",
      "╘═════════════════════╧══════════════╧═════════════╧═════════════╧══════════════════════════════════════════════════════════════════════════════╛\n"
     ]
    }
   ],
   "source": [
    "print('-- Trained for best ACCURACY --')\n",
    "table_bestmodel(estimators_and_par, recall = False)"
   ]
  },
  {
   "cell_type": "code",
   "execution_count": 14,
   "metadata": {},
   "outputs": [
    {
     "name": "stdout",
     "output_type": "stream",
     "text": [
      "Test Accuracy:  0.9824561403508771\n",
      "Test Precision:  1.0\n",
      "Test Recall:  0.9574468085106383\n"
     ]
    },
    {
     "data": {
      "image/png": "[encoded data removed]",
      "text/plain": [
       "<Figure size 1296x504 with 2 Axes>"
      ]
     },
     "metadata": {
      "needs_background": "light"
     },
     "output_type": "display_data"
    }
   ],
   "source": [
    "best_acc = GradientBoostingClassifier(learning_rate=1, max_depth=1, n_estimators=500)\n",
    "model_plots(best_acc)"
   ]
  },
  {
   "cell_type": "markdown",
   "metadata": {},
   "source": [
    "##### Best performances table (recall-based)"
   ]
  },
  {
   "cell_type": "code",
   "execution_count": 13,
   "metadata": {},
   "outputs": [
    {
     "name": "stdout",
     "output_type": "stream",
     "text": [
      "-- Trained for best RECALL --\n",
      "╒═════════════════════╤══════════════╤═════════════╤═════════════╤═════════════════════════════════════════════════════════════════════════════════╕\n",
      "│                     │   Train Rec. │   Test Rec. │   Test Acc. │ Best Model                                                                      │\n",
      "╞═════════════════════╪══════════════╪═════════════╪═════════════╪═════════════════════════════════════════════════════════════════════════════════╡\n",
      "│ KNN                 │     0.872727 │    0.93617  │    0.964912 │ KNeighborsClassifier(n_neighbors=13)                                            │\n",
      "├─────────────────────┼──────────────┼─────────────┼─────────────┼─────────────────────────────────────────────────────────────────────────────────┤\n",
      "│ NAIVE BAYES         │     0.884848 │    0.914894 │    0.929825 │ GaussianNB(var_smoothing=1.519911082952933e-09)                                 │\n",
      "├─────────────────────┼──────────────┼─────────────┼─────────────┼─────────────────────────────────────────────────────────────────────────────────┤\n",
      "│ LOGISTIC REGRESSION │     0.939394 │    1        │    0.982456 │ LogisticRegression(C=100, max_iter=5000, solver='newton-cg')                    │\n",
      "├─────────────────────┼──────────────┼─────────────┼─────────────┼─────────────────────────────────────────────────────────────────────────────────┤\n",
      "│ DECISION TREE       │     0.884848 │    0.93617  │    0.95614  │ DecisionTreeClassifier(max_depth=4, random_state=14)                            │\n",
      "├─────────────────────┼──────────────┼─────────────┼─────────────┼─────────────────────────────────────────────────────────────────────────────────┤\n",
      "│ RANDOM FORESTS      │     0.921212 │    0.957447 │    0.964912 │ RandomForestClassifier(max_depth=5, min_samples_leaf=4, min_samples_split=7,    │\n",
      "│                     │              │             │             │                        random_state=14)                                         │\n",
      "├─────────────────────┼──────────────┼─────────────┼─────────────┼─────────────────────────────────────────────────────────────────────────────────┤\n",
      "│ ADABOOST            │     0.933333 │    0.957447 │    0.973684 │ AdaBoostClassifier(learning_rate=0.01, n_estimators=2000)                       │\n",
      "├─────────────────────┼──────────────┼─────────────┼─────────────┼─────────────────────────────────────────────────────────────────────────────────┤\n",
      "│ GRADIENT BOOSTING   │     1        │    0.978723 │    0.403509 │ GradientBoostingClassifier(learning_rate=10, max_depth=1, n_estimators=250)     │\n",
      "├─────────────────────┼──────────────┼─────────────┼─────────────┼─────────────────────────────────────────────────────────────────────────────────┤\n",
      "│ NEURAL NETWORK      │     0.957576 │    0.851064 │    0.877193 │ MLPClassifier(alpha=0.05, hidden_layer_sizes=100, max_iter=10000, solver='sgd') │\n",
      "╘═════════════════════╧══════════════╧═════════════╧═════════════╧═════════════════════════════════════════════════════════════════════════════════╛\n"
     ]
    }
   ],
   "source": [
    "print('-- Trained for best RECALL --')\n",
    "table_bestmodel(estimators_and_par, recall = True)"
   ]
  },
  {
   "cell_type": "code",
   "execution_count": 26,
   "metadata": {},
   "outputs": [
    {
     "name": "stdout",
     "output_type": "stream",
     "text": [
      "Test Accuracy:  0.9824561403508771\n",
      "Test Precision:  0.9591836734693877\n",
      "Test Recall:  1.0\n"
     ]
    },
    {
     "data": {
      "image/png": "[encoded data removed]",
      "text/plain": [
       "<Figure size 1296x504 with 2 Axes>"
      ]
     },
     "metadata": {
      "needs_background": "light"
     },
     "output_type": "display_data"
    }
   ],
   "source": [
    "best_rec = LogisticRegression(C=100, max_iter=5000, solver='newton-cg') \n",
    "model_plots(best_rec)"
   ]
  },
  {
   "cell_type": "markdown",
   "metadata": {},
   "source": [
    "##### ROC curve comparison"
   ]
  },
  {
   "cell_type": "code",
   "execution_count": 27,
   "metadata": {},
   "outputs": [
    {
     "data": {
      "image/png": "[encoded data removed]",
      "text/plain": [
       "<Figure size 720x720 with 1 Axes>"
      ]
     },
     "metadata": {
      "needs_background": "light"
     },
     "output_type": "display_data"
    }
   ],
   "source": [
    "model_ROC_plots(best_acc, best_rec)"
   ]
  },
  {
   "cell_type": "markdown",
   "metadata": {},
   "source": [
    "#### Performance Summary Plot"
   ]
  },
  {
   "cell_type": "code",
   "execution_count": 67,
   "metadata": {},
   "outputs": [
    {
     "data": {
      "image/png": "[encoded data removed]",
      "text/plain": [
       "<Figure size 432x288 with 1 Axes>"
      ]
     },
     "metadata": {
      "needs_background": "light"
     },
     "output_type": "display_data"
    }
   ],
   "source": [
    "perf_summary_plot(best_acc, title = \"GradientBoostingClassifier (higher precision)\")"
   ]
  },
  {
   "cell_type": "code",
   "execution_count": 68,
   "metadata": {},
   "outputs": [
    {
     "data": {
      "image/png": "[encoded data removed]",
      "text/plain": [
       "<Figure size 432x288 with 1 Axes>"
      ]
     },
     "metadata": {
      "needs_background": "light"
     },
     "output_type": "display_data"
    }
   ],
   "source": [
    "perf_summary_plot(best_rec, title = \"LogisticRegression (higher recall) - Best Model\")"
   ]
  },
  {
   "cell_type": "markdown",
   "metadata": {},
   "source": [
    "The performance is the same between Gradient Boosting and Logistic Regression in terms of accuracy. The former has higher precision, while the latter has a better recall. Since, as we highlighted before, recall is the most appropriate metric in this study, we prefer the Logistic model."
   ]
  }
 ],
 "metadata": {
  "coursera": {
   "course_slug": "python-machine-learning",
   "graded_item_id": "f9SY5",
   "launcher_item_id": "oxndk",
   "part_id": "mh1Vo"
  },
  "kernelspec": {
   "display_name": "Python 3.8.13 ('base')",
   "language": "python",
   "name": "python3"
  },
  "language_info": {
   "codemirror_mode": {
    "name": "ipython",
    "version": 3
   },
   "file_extension": ".py",
   "mimetype": "text/x-python",
   "name": "python",
   "nbconvert_exporter": "python",
   "pygments_lexer": "ipython3",
   "version": "3.8.13"
  },
  "vscode": {
   "interpreter": {
    "hash": "40d3a090f54c6569ab1632332b64b2c03c39dcf918b08424e98f38b5ae0af88f"
   }
  }
 },
 "nbformat": 4,
 "nbformat_minor": 0
}
